{
  "nbformat": 4,
  "nbformat_minor": 0,
  "metadata": {
    "colab": {
      "provenance": []
    },
    "kernelspec": {
      "name": "python3",
      "display_name": "Python 3"
    },
    "language_info": {
      "name": "python"
    }
  },
  "cells": [
    {
      "cell_type": "code",
      "source": [
        "import nltk\n",
        "from nltk.corpus import stopwords\n",
        "\n",
        "nltk.download('stopwords')\n",
        "print(stopwords.words('english'))"
      ],
      "metadata": {
        "colab": {
          "base_uri": "https://localhost:8080/"
        },
        "id": "9zfVS7za7Uc0",
        "outputId": "dc2a13d1-b55b-4ebd-e1be-19409739c8bc"
      },
      "execution_count": null,
      "outputs": [
        {
          "output_type": "stream",
          "name": "stdout",
          "text": [
            "['i', 'me', 'my', 'myself', 'we', 'our', 'ours', 'ourselves', 'you', \"you're\", \"you've\", \"you'll\", \"you'd\", 'your', 'yours', 'yourself', 'yourselves', 'he', 'him', 'his', 'himself', 'she', \"she's\", 'her', 'hers', 'herself', 'it', \"it's\", 'its', 'itself', 'they', 'them', 'their', 'theirs', 'themselves', 'what', 'which', 'who', 'whom', 'this', 'that', \"that'll\", 'these', 'those', 'am', 'is', 'are', 'was', 'were', 'be', 'been', 'being', 'have', 'has', 'had', 'having', 'do', 'does', 'did', 'doing', 'a', 'an', 'the', 'and', 'but', 'if', 'or', 'because', 'as', 'until', 'while', 'of', 'at', 'by', 'for', 'with', 'about', 'against', 'between', 'into', 'through', 'during', 'before', 'after', 'above', 'below', 'to', 'from', 'up', 'down', 'in', 'out', 'on', 'off', 'over', 'under', 'again', 'further', 'then', 'once', 'here', 'there', 'when', 'where', 'why', 'how', 'all', 'any', 'both', 'each', 'few', 'more', 'most', 'other', 'some', 'such', 'no', 'nor', 'not', 'only', 'own', 'same', 'so', 'than', 'too', 'very', 's', 't', 'can', 'will', 'just', 'don', \"don't\", 'should', \"should've\", 'now', 'd', 'll', 'm', 'o', 're', 've', 'y', 'ain', 'aren', \"aren't\", 'couldn', \"couldn't\", 'didn', \"didn't\", 'doesn', \"doesn't\", 'hadn', \"hadn't\", 'hasn', \"hasn't\", 'haven', \"haven't\", 'isn', \"isn't\", 'ma', 'mightn', \"mightn't\", 'mustn', \"mustn't\", 'needn', \"needn't\", 'shan', \"shan't\", 'shouldn', \"shouldn't\", 'wasn', \"wasn't\", 'weren', \"weren't\", 'won', \"won't\", 'wouldn', \"wouldn't\"]\n"
          ]
        },
        {
          "output_type": "stream",
          "name": "stderr",
          "text": [
            "[nltk_data] Downloading package stopwords to /root/nltk_data...\n",
            "[nltk_data]   Package stopwords is already up-to-date!\n"
          ]
        }
      ]
    },
    {
      "cell_type": "code",
      "source": [
        "def remove_stop_words(string):\n",
        "  stop_words = set(stopwords.words('english'))\n",
        "  words = string.split()\n",
        "  filtered_words = [word for word in words if word.lower() not in stop_words]\n",
        "  new_string = ' '.join(filtered_words)\n",
        "  return new_string"
      ],
      "metadata": {
        "id": "XdX0DDVM4rYn"
      },
      "execution_count": null,
      "outputs": []
    },
    {
      "cell_type": "code",
      "source": [
        "input_string = 'This is an example string. Python is a widely used general-purpose, high level programming language. It was created by Guido van Rossum in 1991 and further developed by the Python Software Foundation. It was designed with an emphasis on code readability, and its syntax allows programmers to express their concepts in fewer lines of code.'\n",
        "result= remove_stop_words(input_string)\n",
        "print('Original string: ', input_string)\n",
        "print('Modified string: ', result)"
      ],
      "metadata": {
        "colab": {
          "base_uri": "https://localhost:8080/"
        },
        "id": "TPNNpYWx5Pxe",
        "outputId": "2eb0e573-8176-402c-e72e-9251ff75ec5e"
      },
      "execution_count": null,
      "outputs": [
        {
          "output_type": "stream",
          "name": "stdout",
          "text": [
            "Original string:  This is an example string. Python is a widely used general-purpose, high level programming language. It was created by Guido van Rossum in 1991 and further developed by the Python Software Foundation. It was designed with an emphasis on code readability, and its syntax allows programmers to express their concepts in fewer lines of code.\n",
            "Modified string:  example string. Python widely used general-purpose, high level programming language. created Guido van Rossum 1991 developed Python Software Foundation. designed emphasis code readability, syntax allows programmers express concepts fewer lines code.\n"
          ]
        }
      ]
    },
    {
      "cell_type": "code",
      "source": [
        "new_input=list(input_string.split(' '))\n",
        "print(new_input)"
      ],
      "metadata": {
        "colab": {
          "base_uri": "https://localhost:8080/"
        },
        "id": "6zsP5EZHCfJc",
        "outputId": "4200d723-cb01-46b4-b4bb-577c3255f497"
      },
      "execution_count": null,
      "outputs": [
        {
          "output_type": "stream",
          "name": "stdout",
          "text": [
            "['This', 'is', 'an', 'example', 'string.', 'Python', 'is', 'a', 'widely', 'used', 'general-purpose,', 'high', 'level', 'programming', 'language.', 'It', 'was', 'created', 'by', 'Guido', 'van', 'Rossum', 'in', '1991', 'and', 'further', 'developed', 'by', 'the', 'Python', 'Software', 'Foundation.', 'It', 'was', 'designed', 'with', 'an', 'emphasis', 'on', 'code', 'readability,', 'and', 'its', 'syntax', 'allows', 'programmers', 'to', 'express', 'their', 'concepts', 'in', 'fewer', 'lines', 'of', 'code.']\n"
          ]
        }
      ]
    },
    {
      "cell_type": "code",
      "source": [
        "count_stopwords=[]\n",
        "count=0\n",
        "for word in new_input:\n",
        "  if word in new_input and word not in result:\n",
        "    count=count+1\n",
        "    count_stopwords.append(word)\n",
        "print(count)\n",
        "print(count_stopwords)"
      ],
      "metadata": {
        "colab": {
          "base_uri": "https://localhost:8080/"
        },
        "id": "Ee7881b86odT",
        "outputId": "84d3351b-1af9-44f5-9872-881ac626e09d"
      },
      "execution_count": null,
      "outputs": [
        {
          "output_type": "stream",
          "name": "stdout",
          "text": [
            "15\n",
            "['This', 'It', 'was', 'by', 'and', 'further', 'by', 'the', 'It', 'was', 'with', 'and', 'its', 'to', 'their']\n"
          ]
        }
      ]
    },
    {
      "cell_type": "code",
      "source": [
        "num_stopwords=[]\n",
        "for word in count_stopwords:\n",
        "    num_stopwords.append(new_input.count(word))\n",
        "print(num_stopwords)"
      ],
      "metadata": {
        "colab": {
          "base_uri": "https://localhost:8080/"
        },
        "id": "N0MDxDDL-YMk",
        "outputId": "26fe8a76-da76-4377-b25d-1c5ba10f8574"
      },
      "execution_count": null,
      "outputs": [
        {
          "output_type": "stream",
          "name": "stdout",
          "text": [
            "[1, 2, 2, 2, 2, 1, 2, 1, 2, 2, 1, 2, 1, 1, 1]\n"
          ]
        }
      ]
    },
    {
      "cell_type": "code",
      "source": [
        "import matplotlib.pyplot as plt\n",
        "\n",
        "plt.bar(count_stopwords, num_stopwords)\n",
        "plt.xlabel('Stopwords present in the input string')\n",
        "plt.xticks(rotation=90)\n",
        "plt.ylabel('Occurance')\n",
        "plt.title(\"Occurance of stopwords\")\n",
        "plt.show()"
      ],
      "metadata": {
        "colab": {
          "base_uri": "https://localhost:8080/",
          "height": 506
        },
        "id": "WvPySnWoAWJa",
        "outputId": "5a1ac11b-56b6-462e-b9db-0d0d833455e1"
      },
      "execution_count": 76,
      "outputs": [
        {
          "output_type": "display_data",
          "data": {
            "text/plain": [
              "<Figure size 640x480 with 1 Axes>"
            ],
            "image/png": "[encoded data removed]"
          },
          "metadata": {}
        }
      ]
    }
  ]
}