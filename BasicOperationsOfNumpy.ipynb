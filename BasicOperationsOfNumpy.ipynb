{
  "nbformat": 4,
  "nbformat_minor": 0,
  "metadata": {
    "colab": {
      "provenance": []
    },
    "kernelspec": {
      "name": "python3",
      "display_name": "Python 3"
    },
    "language_info": {
      "name": "python"
    }
  },
  "cells": [
    {
      "cell_type": "code",
      "execution_count": 1,
      "metadata": {
        "id": "bayxdm5q2FuJ"
      },
      "outputs": [],
      "source": [
        "#Importing numpy\n",
        "import numpy as np"
      ]
    },
    {
      "cell_type": "markdown",
      "source": [
        "### Make a 1D Array and check shape, size, dimension and length"
      ],
      "metadata": {
        "id": "AyusXT0G5Oz0"
      }
    },
    {
      "cell_type": "code",
      "source": [
        "#Creating a 1D array\n",
        "arr = np.array([1, 2, 3, 4, 5])\n",
        "shape = arr.shape\n",
        "\n",
        "#Checking size\n",
        "size = arr.size\n",
        "\n",
        "#Checking dimensions\n",
        "dimensions = arr.ndim\n",
        "\n",
        "#Checking length\n",
        "length = len(arr)\n",
        "\n",
        "# Printing the results\n",
        "print(\"Shape:\", shape)\n",
        "print(\"Size:\", size)\n",
        "print(\"Dimensions:\", dimensions)\n",
        "print(\"Length:\", length)"
      ],
      "metadata": {
        "colab": {
          "base_uri": "https://localhost:8080/"
        },
        "id": "7pRUoeat2VKG",
        "outputId": "068f5277-24f1-4486-a3b5-d1522bed6567"
      },
      "execution_count": 6,
      "outputs": [
        {
          "output_type": "stream",
          "name": "stdout",
          "text": [
            "Shape: (5,)\n",
            "Size: 5\n",
            "Dimensions: 1\n",
            "Length: 5\n"
          ]
        }
      ]
    },
    {
      "cell_type": "markdown",
      "source": [
        "### Make a 2D Array and check shape, size, dimension and length"
      ],
      "metadata": {
        "id": "e9Yyxq6u5NNM"
      }
    },
    {
      "cell_type": "code",
      "source": [
        "#Creating a 2D array\n",
        "arr_2d = np.array([[1, 2, 3], [4, 5, 6]])\n",
        "\n",
        "#Checking shape\n",
        "shape = arr_2d.shape\n",
        "\n",
        "#Checking size\n",
        "size = arr_2d.size\n",
        "\n",
        "#Checking dimensions\n",
        "dimensions = arr_2d.ndim\n",
        "\n",
        "#Checking length\n",
        "length = len(arr_2d)\n",
        "\n",
        "#Printing the results\n",
        "print(\"Shape:\", shape)\n",
        "print(\"Size:\", size)\n",
        "print(\"Dimensions:\", dimensions)\n",
        "print(\"Length:\", length)"
      ],
      "metadata": {
        "colab": {
          "base_uri": "https://localhost:8080/"
        },
        "id": "Kfv4VScN3B3d",
        "outputId": "bc854c8a-b952-46f4-d44b-4ea8ba745d97"
      },
      "execution_count": 7,
      "outputs": [
        {
          "output_type": "stream",
          "name": "stdout",
          "text": [
            "Shape: (2, 3)\n",
            "Size: 6\n",
            "Dimensions: 2\n",
            "Length: 2\n"
          ]
        }
      ]
    },
    {
      "cell_type": "markdown",
      "source": [
        "### Make a 3D Array and check shape, size, dimension and length"
      ],
      "metadata": {
        "id": "hltjWBG05Cf0"
      }
    },
    {
      "cell_type": "code",
      "source": [
        "#Creating a 3D array\n",
        "arr_3d = np.array([[[1, 2], [3, 4]], [[5, 6], [7, 8]], [[9, 10], [11, 12]]])\n",
        "\n",
        "#Checking shape\n",
        "shape = arr_3d.shape\n",
        "\n",
        "#Checking size\n",
        "size = arr_3d.size\n",
        "\n",
        "#Checking dimensions\n",
        "dimensions = arr_3d.ndim\n",
        "\n",
        "#Checking length\n",
        "length = len(arr_3d)\n",
        "\n",
        "#Printing the results\n",
        "print(\"Shape:\", shape)\n",
        "print(\"Size:\", size)\n",
        "print(\"Dimensions:\", dimensions)\n",
        "print(\"Length:\", length)"
      ],
      "metadata": {
        "colab": {
          "base_uri": "https://localhost:8080/"
        },
        "id": "lviVpqco3Owl",
        "outputId": "abe5cd58-570f-48d3-cf11-dcfe3278df6f"
      },
      "execution_count": 8,
      "outputs": [
        {
          "output_type": "stream",
          "name": "stdout",
          "text": [
            "Shape: (3, 2, 2)\n",
            "Size: 12\n",
            "Dimensions: 3\n",
            "Length: 3\n"
          ]
        }
      ]
    },
    {
      "cell_type": "markdown",
      "source": [
        "### Write an example for the function: random.randint"
      ],
      "metadata": {
        "id": "_O2tHCSn5AlM"
      }
    },
    {
      "cell_type": "code",
      "source": [
        "#Creating an array using arange\n",
        "arr = np.arange(1, 10, 2)\n",
        "\n",
        "#Displaying the array\n",
        "print(arr)"
      ],
      "metadata": {
        "colab": {
          "base_uri": "https://localhost:8080/"
        },
        "id": "JRXXoF7L3bZ5",
        "outputId": "617da65d-7f66-4c82-963c-df4bb4df187e"
      },
      "execution_count": 9,
      "outputs": [
        {
          "output_type": "stream",
          "name": "stdout",
          "text": [
            "[1 3 5 7 9]\n"
          ]
        }
      ]
    },
    {
      "cell_type": "markdown",
      "source": [
        "### Write an example for the function: random.randint"
      ],
      "metadata": {
        "id": "IVydBOqQ40Pk"
      }
    },
    {
      "cell_type": "code",
      "source": [
        "#Generating 5 random integers between 1 and 100\n",
        "random_integers = np.random.randint(1, 101, 5)\n",
        "\n",
        "#Displaying the random integers\n",
        "print(random_integers)"
      ],
      "metadata": {
        "colab": {
          "base_uri": "https://localhost:8080/"
        },
        "id": "YQfEheqi3jVV",
        "outputId": "83daf99d-047f-40b0-e48c-096daaaa6dcd"
      },
      "execution_count": 10,
      "outputs": [
        {
          "output_type": "stream",
          "name": "stdout",
          "text": [
            "[71 26 32 34 16]\n"
          ]
        }
      ]
    },
    {
      "cell_type": "markdown",
      "source": [
        "### Write an example for the function: random.rand"
      ],
      "metadata": {
        "id": "WLUFxA5j4sTM"
      }
    },
    {
      "cell_type": "code",
      "source": [
        "#Generating a 2x3 array of random numbers between 0 and 1\n",
        "random_array = np.random.rand(2, 3)\n",
        "\n",
        "#Displaying the random array\n",
        "print(random_array)"
      ],
      "metadata": {
        "colab": {
          "base_uri": "https://localhost:8080/"
        },
        "id": "-fo3xN3o3tbV",
        "outputId": "6001c61b-bbbe-46ed-d991-1ef3816873bf"
      },
      "execution_count": 11,
      "outputs": [
        {
          "output_type": "stream",
          "name": "stdout",
          "text": [
            "[[0.21443574 0.4989025  0.86959166]\n",
            " [0.5852726  0.66385915 0.3518034 ]]\n"
          ]
        }
      ]
    },
    {
      "cell_type": "markdown",
      "source": [
        "### Write an example for the function: linspace"
      ],
      "metadata": {
        "id": "FcMyav3O4pz1"
      }
    },
    {
      "cell_type": "code",
      "source": [
        "#Generating 10 equally spaced points between 1 and 5\n",
        "points = np.linspace(1, 5, 10)\n",
        "\n",
        "#Displaying the generated points\n",
        "print(points)"
      ],
      "metadata": {
        "colab": {
          "base_uri": "https://localhost:8080/"
        },
        "id": "KFOmjTW63weV",
        "outputId": "3d3313b9-f680-4e9a-cb8e-fb425c097aac"
      },
      "execution_count": 12,
      "outputs": [
        {
          "output_type": "stream",
          "name": "stdout",
          "text": [
            "[1.         1.44444444 1.88888889 2.33333333 2.77777778 3.22222222\n",
            " 3.66666667 4.11111111 4.55555556 5.        ]\n"
          ]
        }
      ]
    },
    {
      "cell_type": "markdown",
      "source": [
        "### Write an example for the function: ones"
      ],
      "metadata": {
        "id": "Jlz-UYsc4nsE"
      }
    },
    {
      "cell_type": "code",
      "source": [
        "#Creating a 2x3 array filled with ones\n",
        "ones_array = np.ones((2, 3))\n",
        "\n",
        "#Displaying the array filled with ones\n",
        "print(ones_array)"
      ],
      "metadata": {
        "colab": {
          "base_uri": "https://localhost:8080/"
        },
        "id": "s6lDc5PY33Q8",
        "outputId": "474c11e7-771b-4d50-d992-c60ea755684f"
      },
      "execution_count": 13,
      "outputs": [
        {
          "output_type": "stream",
          "name": "stdout",
          "text": [
            "[[1. 1. 1.]\n",
            " [1. 1. 1.]]\n"
          ]
        }
      ]
    },
    {
      "cell_type": "markdown",
      "source": [
        "### Write an example for the function: zeros"
      ],
      "metadata": {
        "id": "CXhZeVM-4lQd"
      }
    },
    {
      "cell_type": "code",
      "source": [
        "#Creating a 3x2 array filled with zeros\n",
        "zeros_array = np.zeros((3, 2))\n",
        "\n",
        "#Displaying the array filled with zeros\n",
        "print(zeros_array)"
      ],
      "metadata": {
        "colab": {
          "base_uri": "https://localhost:8080/"
        },
        "id": "9zMHif7439aM",
        "outputId": "67723fad-0df5-4143-c609-b1f0a075694a"
      },
      "execution_count": 14,
      "outputs": [
        {
          "output_type": "stream",
          "name": "stdout",
          "text": [
            "[[0. 0.]\n",
            " [0. 0.]\n",
            " [0. 0.]]\n"
          ]
        }
      ]
    },
    {
      "cell_type": "markdown",
      "source": [
        "### Write an example for the function: diag"
      ],
      "metadata": {
        "id": "nTNcp3Sj4ifG"
      }
    },
    {
      "cell_type": "code",
      "source": [
        "#Creating a diagonal array with specified diagonal elements\n",
        "diagonal_array = np.diag([1, 2, 3])\n",
        "\n",
        "#Displaying the diagonal array\n",
        "print(diagonal_array)\n",
        "\n",
        "#Extracting diagonal elements from a 2D array\n",
        "arr_2d = np.array([[4, 5, 6], [7, 8, 9], [10, 11, 12]])\n",
        "diagonal_elements = np.diag(arr_2d)\n",
        "\n",
        "#Displaying the extracted diagonal elements\n",
        "print(diagonal_elements)"
      ],
      "metadata": {
        "colab": {
          "base_uri": "https://localhost:8080/"
        },
        "id": "y9iRC5Zk4Dhs",
        "outputId": "42f7bc5a-822b-4da5-8f6f-e7425f63e8d9"
      },
      "execution_count": 15,
      "outputs": [
        {
          "output_type": "stream",
          "name": "stdout",
          "text": [
            "[[1 0 0]\n",
            " [0 2 0]\n",
            " [0 0 3]]\n",
            "[ 4  8 12]\n"
          ]
        }
      ]
    },
    {
      "cell_type": "markdown",
      "source": [
        "### Write an example for the function: sum"
      ],
      "metadata": {
        "id": "NGxf1cmp4UQ-"
      }
    },
    {
      "cell_type": "code",
      "source": [
        "#Creating an array\n",
        "arr = np.array([[1, 2], [3, 4]])\n",
        "\n",
        "#Calculating the sum of all elements in the array\n",
        "total_sum = np.sum(arr)\n",
        "\n",
        "#Calculating the sum along a specific axis (axis=0 for columns, axis=1 for rows)\n",
        "column_sum = np.sum(arr, axis=0)\n",
        "row_sum = np.sum(arr, axis=1)\n",
        "\n",
        "#Displaying the results\n",
        "print(\"Total Sum:\", total_sum)\n",
        "print(\"Column Sum:\", column_sum)\n",
        "print(\"Row Sum:\", row_sum)"
      ],
      "metadata": {
        "colab": {
          "base_uri": "https://localhost:8080/"
        },
        "id": "c9H6f2Wt4KLN",
        "outputId": "751dfeb3-35b4-4e04-8c5d-170db4997458"
      },
      "execution_count": 16,
      "outputs": [
        {
          "output_type": "stream",
          "name": "stdout",
          "text": [
            "Total Sum: 10\n",
            "Column Sum: [4 6]\n",
            "Row Sum: [3 7]\n"
          ]
        }
      ]
    },
    {
      "cell_type": "markdown",
      "source": [
        "### Write an example for the function: min"
      ],
      "metadata": {
        "id": "Sns_k9Kw5V0E"
      }
    },
    {
      "cell_type": "code",
      "source": [
        "#Example of using the min function in numpy\n",
        "array = np.array([5, 2, 8, 1, 9])\n",
        "smallest_number = np.min(array)\n",
        "\n",
        "print(\"The smallest number in the array is:\", smallest_number)"
      ],
      "metadata": {
        "colab": {
          "base_uri": "https://localhost:8080/"
        },
        "id": "T2dIQus15VWw",
        "outputId": "6f139c53-6179-4543-c46c-830fa583ecb3"
      },
      "execution_count": 17,
      "outputs": [
        {
          "output_type": "stream",
          "name": "stdout",
          "text": [
            "The smallest number in the array is: 1\n"
          ]
        }
      ]
    },
    {
      "cell_type": "markdown",
      "source": [
        "### Write an example for the function: max"
      ],
      "metadata": {
        "id": "U5w01lgN53aE"
      }
    },
    {
      "cell_type": "code",
      "source": [
        "#Example of using the max function in numpy\n",
        "array = np.array([5, 2, 8, 1, 9])\n",
        "largest_number = np.max(array)\n",
        "\n",
        "print(\"The largest number in the array is:\", largest_number)"
      ],
      "metadata": {
        "id": "fouXlgQI52WU"
      },
      "execution_count": null,
      "outputs": []
    },
    {
      "cell_type": "markdown",
      "source": [
        "### Write an example for the function: mean"
      ],
      "metadata": {
        "id": "wZtoTzNy6Dzc"
      }
    },
    {
      "cell_type": "code",
      "source": [
        "#Example of using the mean function in numpy\n",
        "array = np.array([5, 2, 8, 1, 9])\n",
        "mean_value = np.mean(array)\n",
        "\n",
        "print(\"The mean of the array is:\", mean_value)"
      ],
      "metadata": {
        "colab": {
          "base_uri": "https://localhost:8080/"
        },
        "id": "zxe5g7LR6Dn0",
        "outputId": "fbcfcfe7-1acf-4c98-cad4-b5c2ac4edf32"
      },
      "execution_count": 18,
      "outputs": [
        {
          "output_type": "stream",
          "name": "stdout",
          "text": [
            "The mean of the array is: 5.0\n"
          ]
        }
      ]
    },
    {
      "cell_type": "markdown",
      "source": [
        "### Make an array of student marks of a course by generating marks using random between the values 0 to 100. Assume failing criteria is scoring less than 30 marks. Find the number of students who passed and filter the failed marks."
      ],
      "metadata": {
        "id": "JwYXcgMP7CrL"
      }
    },
    {
      "cell_type": "code",
      "source": [
        "import random\n",
        "\n",
        "#Random marks for 50 students\n",
        "student_marks = [random.randint(0, 100) for i in range(50)]\n",
        "\n",
        "#Find the number of students who passed (marks >= 30)\n",
        "passed_students = sum(mark >= 30 for mark in student_marks)\n",
        "\n",
        "#Filter out the failed marks into a separate list\n",
        "failed_marks = [mark for mark in student_marks if mark <= 30]\n",
        "\n",
        "print(\"Student Marks:\", student_marks)\n",
        "print(\"Number of Students Passed:\", passed_students)\n",
        "print(\"Failed Marks List:\", failed_marks)"
      ],
      "metadata": {
        "colab": {
          "base_uri": "https://localhost:8080/"
        },
        "id": "81vLBrI26L07",
        "outputId": "a2a8bbc1-47bb-4e4b-e583-a570f53f6a2c"
      },
      "execution_count": 20,
      "outputs": [
        {
          "output_type": "stream",
          "name": "stdout",
          "text": [
            "Student Marks: [11, 0, 56, 93, 9, 100, 45, 57, 36, 82, 68, 100, 33, 38, 2, 31, 41, 83, 81, 79, 81, 29, 20, 30, 96, 97, 84, 50, 37, 79, 77, 98, 73, 25, 97, 12, 43, 0, 18, 90, 15, 40, 58, 6, 83, 38, 7, 56, 79, 14]\n",
            "Number of Students Passed: 36\n",
            "Failed Marks List: [11, 0, 9, 2, 29, 20, 30, 25, 12, 0, 18, 15, 6, 7, 14]\n"
          ]
        }
      ]
    },
    {
      "cell_type": "markdown",
      "source": [
        "### Make a 2D array with random numbers between 1 to 50."
      ],
      "metadata": {
        "id": "BrTTp8Ug77qs"
      }
    },
    {
      "cell_type": "code",
      "source": [
        "#Dimensions of the 2D array\n",
        "rows = 5\n",
        "cols = 5\n",
        "\n",
        "#2D array with random numbers between 1 to 50\n",
        "random_2d_array = np.random.randint(1, 51, size=(rows, cols))\n",
        "\n",
        "print(\"2D Array with Random Numbers between 1 to 50:\")\n",
        "print(random_2d_array)"
      ],
      "metadata": {
        "colab": {
          "base_uri": "https://localhost:8080/"
        },
        "id": "bWkz3Pm57wBJ",
        "outputId": "0d833ed6-cdb1-459c-e94f-040b1c6608b4"
      },
      "execution_count": 21,
      "outputs": [
        {
          "output_type": "stream",
          "name": "stdout",
          "text": [
            "2D Array with Random Numbers between 1 to 50:\n",
            "[[ 3 31  8 24 43]\n",
            " [16 26 30 16 17]\n",
            " [32  2 28 32 31]\n",
            " [ 1  7 26 16 40]\n",
            " [48 44 40 35 33]]\n"
          ]
        }
      ]
    }
  ]
}